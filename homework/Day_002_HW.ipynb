{
 "cells": [
  {
   "cell_type": "code",
   "execution_count": null,
   "metadata": {},
   "outputs": [],
   "source": [
    "作業\n",
    "請找出一個你認為機器學習可以發光發熱的領域並闡述原因?\n",
    "\n",
    "影像處理。\n",
    "現今的照片大多經過修圖，像是瘦臉、放大眼睛等等，但每次操作都會改變該部分的數值，\n",
    "可以利用機器學習識別該部分的數值，而且資料非常充足，甚至能夠回復成原本未修圖之前的模樣。\n",
    "但像是濾鏡整筆資料都做修改的就不清楚怎麼做。\n",
    "\n",
    "股票。\n",
    "股市的資料肯定非常大量，同時也可以利用股票市場的技術分析來設計機器學習的方法。"
   ]
  }
 ],
 "metadata": {
  "kernelspec": {
   "display_name": "Python 3",
   "language": "python",
   "name": "python3"
  },
  "language_info": {
   "codemirror_mode": {
    "name": "ipython",
    "version": 3
   },
   "file_extension": ".py",
   "mimetype": "text/x-python",
   "name": "python",
   "nbconvert_exporter": "python",
   "pygments_lexer": "ipython3",
   "version": "3.7.3"
  }
 },
 "nbformat": 4,
 "nbformat_minor": 2
}
